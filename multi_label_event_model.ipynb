{
 "cells": [
  {
   "cell_type": "code",
   "execution_count": 1,
   "metadata": {},
   "outputs": [
    {
     "name": "stdout",
     "output_type": "stream",
     "text": [
      "                                              sender     received_time  \\\n",
      "0  /O=EXCHANGELABS/OU=EXCHANGE ADMINISTRATIVE GRO...  25/12/2024 04:39   \n",
      "1  /O=EXCHANGELABS/OU=EXCHANGE ADMINISTRATIVE GRO...  25/12/2024 00:28   \n",
      "2  /O=EXCHANGELABS/OU=EXCHANGE ADMINISTRATIVE GRO...  24/12/2024 23:11   \n",
      "3  /O=EXCHANGELABS/OU=EXCHANGE ADMINISTRATIVE GRO...  24/12/2024 20:23   \n",
      "4  /O=EXCHANGELABS/OU=EXCHANGE ADMINISTRATIVE GRO...  24/12/2024 19:31   \n",
      "\n",
      "                                             subject  \\\n",
      "0     [SMU VERTS] Events Director Co-opt Recruitment   \n",
      "1  [BFI@SMU Connects] Season's Greetings: 2024 in...   \n",
      "2  [SMU Athletics] Join our Open City Run at the ...   \n",
      "3  [ICON ICS] Join the Band: Auditions Now Open! ...   \n",
      "4  STAT401 Actuarial Science Work-Study Elective ...   \n",
      "\n",
      "                                                body is_event  \\\n",
      "0  \\r\\n\\r\\n \\r\\n\\r\\n \\r\\n\\r\\n?? Join SMU Verts' 2...       No   \n",
      "1  SMU Classification: Restricted\\r\\n\\r\\n\\r\\n\\r\\n...       No   \n",
      "2  POV: You are thinking of joining the coolest r...      Yes   \n",
      "3  \\r\\n\\r\\n \\r\\n\\r\\n \\r\\n\\r\\n?? Audition for the ...       No   \n",
      "4  SMU Classification: Restricted\\r\\n\\r\\n\\r\\n\\r\\n...       No   \n",
      "\n",
      "                                              reason              time  \\\n",
      "0  The email is a recruitment call for the Events...     Not mentioned   \n",
      "1  The email is a newsletter summarizing activiti...     Not mentioned   \n",
      "2  The email explicitly invites people to a 'Open...  2025-01-14 19:00   \n",
      "3  The email describes a call for auditions for a...  2025-01-01 23:59   \n",
      "4  The email describes a call for applications fo...     Not mentioned   \n",
      "\n",
      "                                            location food_mentioned  \\\n",
      "0                                      Zoom (online)             No   \n",
      "1                                      Not mentioned             No   \n",
      "2  SOE/SCIS2 SR2-9 (Meeting Point), Campus Green ...             No   \n",
      "3                                      Not mentioned             No   \n",
      "4                                      Not mentioned             No   \n",
      "\n",
      "    food_details  \n",
      "0  Not mentioned  \n",
      "1  Not mentioned  \n",
      "2  Not mentioned  \n",
      "3  Not mentioned  \n",
      "4  Not mentioned  \n"
     ]
    }
   ],
   "source": [
    "import pandas as pd\n",
    "\n",
    "# Read in the data\n",
    "df = pd.read_csv(\"resources/all_event_data.csv\")\n",
    "\n",
    "# Print the first few rows of the dataframe\n",
    "print(df.head())"
   ]
  },
  {
   "cell_type": "code",
   "execution_count": 2,
   "metadata": {},
   "outputs": [],
   "source": [
    "# drop rows where is_event == \"500 Unable to submit request because the service is temporarily unavailable.\"\n",
    "df = df[df[\"is_event\"] != \"500 Unable to submit request because the service is temporarily unavailable.\"]"
   ]
  },
  {
   "cell_type": "code",
   "execution_count": 3,
   "metadata": {},
   "outputs": [
    {
     "name": "stdout",
     "output_type": "stream",
     "text": [
      "                                              sender     received_time  \\\n",
      "0  /O=EXCHANGELABS/OU=EXCHANGE ADMINISTRATIVE GRO...  25/12/2024 04:39   \n",
      "1  /O=EXCHANGELABS/OU=EXCHANGE ADMINISTRATIVE GRO...  25/12/2024 00:28   \n",
      "2  /O=EXCHANGELABS/OU=EXCHANGE ADMINISTRATIVE GRO...  24/12/2024 23:11   \n",
      "3  /O=EXCHANGELABS/OU=EXCHANGE ADMINISTRATIVE GRO...  24/12/2024 20:23   \n",
      "4  /O=EXCHANGELABS/OU=EXCHANGE ADMINISTRATIVE GRO...  24/12/2024 19:31   \n",
      "\n",
      "                                             subject  \\\n",
      "0     [SMU VERTS] Events Director Co-opt Recruitment   \n",
      "1  [BFI@SMU Connects] Season's Greetings: 2024 in...   \n",
      "2  [SMU Athletics] Join our Open City Run at the ...   \n",
      "3  [ICON ICS] Join the Band: Auditions Now Open! ...   \n",
      "4  STAT401 Actuarial Science Work-Study Elective ...   \n",
      "\n",
      "                                                body is_event  \\\n",
      "0  ?? join smu verts' 24th executive committee: l...       No   \n",
      "1  smu classification: restricted please click he...       No   \n",
      "2  pov: you are thinking of joining the coolest r...      Yes   \n",
      "3  ?? audition for the ics band ? let your talent...       No   \n",
      "4  smu classification: restricted dear students, ...       No   \n",
      "\n",
      "                                              reason              time  \\\n",
      "0  The email is a recruitment call for the Events...     Not mentioned   \n",
      "1  The email is a newsletter summarizing activiti...     Not mentioned   \n",
      "2  The email explicitly invites people to a 'Open...  2025-01-14 19:00   \n",
      "3  The email describes a call for auditions for a...  2025-01-01 23:59   \n",
      "4  The email describes a call for applications fo...     Not mentioned   \n",
      "\n",
      "                                            location food_mentioned  \\\n",
      "0                                      Zoom (online)             No   \n",
      "1                                      Not mentioned             No   \n",
      "2  SOE/SCIS2 SR2-9 (Meeting Point), Campus Green ...             No   \n",
      "3                                      Not mentioned             No   \n",
      "4                                      Not mentioned             No   \n",
      "\n",
      "    food_details  \n",
      "0  Not mentioned  \n",
      "1  Not mentioned  \n",
      "2  Not mentioned  \n",
      "3  Not mentioned  \n",
      "4  Not mentioned  \n"
     ]
    }
   ],
   "source": [
    "import re\n",
    "from sklearn.preprocessing import LabelEncoder\n",
    "\n",
    "# Clean the text\n",
    "def clean_text(text):\n",
    "    # Remove URLs and email links (http, https, mailto)\n",
    "    text = re.sub(r'(https?://\\S+|mailto:\\S+)', '', text)\n",
    "    # Remove all newline (\\n) and carriage return (\\r) characters\n",
    "    text = re.sub(r'[\\n\\r]', ' ', text)\n",
    "    # Replace multiple spaces with a single space\n",
    "    text = re.sub(r'\\s+', ' ', text)\n",
    "    # Convert to lowercase and strip leading/trailing whitespace\n",
    "    return text.lower().strip()\n",
    "\n",
    "\n",
    "# Apply cleaning\n",
    "df['body'] = df['body'].apply(clean_text)\n",
    "\n",
    "# inspect the data\n",
    "print(df.head())"
   ]
  },
  {
   "cell_type": "code",
   "execution_count": 4,
   "metadata": {},
   "outputs": [],
   "source": [
    "# Map 'Yes' -> 1 and 'No' -> 0 for both columns\n",
    "df['is_event'] = df['is_event'].map({'Yes': 1, 'No': 0})\n",
    "df['food_mentioned'] = df['food_mentioned'].map({'Yes': 1, 'No': 0})"
   ]
  },
  {
   "cell_type": "code",
   "execution_count": 5,
   "metadata": {},
   "outputs": [],
   "source": [
    "# Combine labels into a single column for multi-label classification\n",
    "df['labels'] = df.apply(lambda row: [int(row['is_event']), int(row['food_mentioned'])], axis=1)"
   ]
  },
  {
   "cell_type": "code",
   "execution_count": 6,
   "metadata": {},
   "outputs": [],
   "source": [
    "from sklearn.model_selection import train_test_split\n",
    "\n",
    "# Split into training and test sets\n",
    "train_texts, test_texts, train_labels, test_labels = train_test_split(\n",
    "    df['body'], df['labels'].tolist(), test_size=0.2, random_state=42\n",
    ")"
   ]
  },
  {
   "cell_type": "code",
   "execution_count": 7,
   "metadata": {},
   "outputs": [
    {
     "name": "stderr",
     "output_type": "stream",
     "text": [
      "c:\\Users\\Gilchris\\UNI\\hackathon-projects\\buffay\\venv\\Lib\\site-packages\\tqdm\\auto.py:21: TqdmWarning: IProgress not found. Please update jupyter and ipywidgets. See https://ipywidgets.readthedocs.io/en/stable/user_install.html\n",
      "  from .autonotebook import tqdm as notebook_tqdm\n"
     ]
    }
   ],
   "source": [
    "from transformers import BertTokenizer\n",
    "\n",
    "# Load the tokenizer\n",
    "tokenizer = BertTokenizer.from_pretrained('bert-base-uncased')\n",
    "\n",
    "# Tokenize the text with truncation and padding\n",
    "train_encodings = tokenizer(list(train_texts), truncation=True, padding=True, max_length=512)\n",
    "test_encodings = tokenizer(list(test_texts), truncation=True, padding=True, max_length=512)"
   ]
  },
  {
   "cell_type": "code",
   "execution_count": 8,
   "metadata": {},
   "outputs": [],
   "source": [
    "import torch\n",
    "\n",
    "class EmailDataset(torch.utils.data.Dataset):\n",
    "    def __init__(self, encodings, labels):\n",
    "        self.encodings = encodings\n",
    "        self.labels = labels\n",
    "\n",
    "    def __len__(self):\n",
    "        return len(self.labels)\n",
    "\n",
    "    def __getitem__(self, idx):\n",
    "        item = {key: torch.tensor(val[idx]) for key, val in self.encodings.items()}\n",
    "        item['labels'] = torch.tensor(self.labels[idx], dtype=torch.float)  # Multi-label\n",
    "        return item\n",
    "\n",
    "# Create datasets\n",
    "train_dataset = EmailDataset(train_encodings, train_labels)\n",
    "test_dataset = EmailDataset(test_encodings, test_labels)\n"
   ]
  },
  {
   "cell_type": "code",
   "execution_count": 9,
   "metadata": {},
   "outputs": [
    {
     "name": "stderr",
     "output_type": "stream",
     "text": [
      "Some weights of BertForSequenceClassification were not initialized from the model checkpoint at bert-base-uncased and are newly initialized: ['classifier.bias', 'classifier.weight']\n",
      "You should probably TRAIN this model on a down-stream task to be able to use it for predictions and inference.\n"
     ]
    }
   ],
   "source": [
    "from transformers import BertForSequenceClassification\n",
    "\n",
    "# Load BERT for sequence classification with 2 output labels\n",
    "model = BertForSequenceClassification.from_pretrained('bert-base-uncased', num_labels=2)"
   ]
  },
  {
   "cell_type": "code",
   "execution_count": 10,
   "metadata": {},
   "outputs": [
    {
     "name": "stderr",
     "output_type": "stream",
     "text": [
      "c:\\Users\\Gilchris\\UNI\\hackathon-projects\\buffay\\venv\\Lib\\site-packages\\transformers\\optimization.py:591: FutureWarning: This implementation of AdamW is deprecated and will be removed in a future version. Use the PyTorch implementation torch.optim.AdamW instead, or set `no_deprecation_warning=True` to disable this warning\n",
      "  warnings.warn(\n"
     ]
    },
    {
     "data": {
      "text/plain": [
       "BertForSequenceClassification(\n",
       "  (bert): BertModel(\n",
       "    (embeddings): BertEmbeddings(\n",
       "      (word_embeddings): Embedding(30522, 768, padding_idx=0)\n",
       "      (position_embeddings): Embedding(512, 768)\n",
       "      (token_type_embeddings): Embedding(2, 768)\n",
       "      (LayerNorm): LayerNorm((768,), eps=1e-12, elementwise_affine=True)\n",
       "      (dropout): Dropout(p=0.1, inplace=False)\n",
       "    )\n",
       "    (encoder): BertEncoder(\n",
       "      (layer): ModuleList(\n",
       "        (0-11): 12 x BertLayer(\n",
       "          (attention): BertAttention(\n",
       "            (self): BertSdpaSelfAttention(\n",
       "              (query): Linear(in_features=768, out_features=768, bias=True)\n",
       "              (key): Linear(in_features=768, out_features=768, bias=True)\n",
       "              (value): Linear(in_features=768, out_features=768, bias=True)\n",
       "              (dropout): Dropout(p=0.1, inplace=False)\n",
       "            )\n",
       "            (output): BertSelfOutput(\n",
       "              (dense): Linear(in_features=768, out_features=768, bias=True)\n",
       "              (LayerNorm): LayerNorm((768,), eps=1e-12, elementwise_affine=True)\n",
       "              (dropout): Dropout(p=0.1, inplace=False)\n",
       "            )\n",
       "          )\n",
       "          (intermediate): BertIntermediate(\n",
       "            (dense): Linear(in_features=768, out_features=3072, bias=True)\n",
       "            (intermediate_act_fn): GELUActivation()\n",
       "          )\n",
       "          (output): BertOutput(\n",
       "            (dense): Linear(in_features=3072, out_features=768, bias=True)\n",
       "            (LayerNorm): LayerNorm((768,), eps=1e-12, elementwise_affine=True)\n",
       "            (dropout): Dropout(p=0.1, inplace=False)\n",
       "          )\n",
       "        )\n",
       "      )\n",
       "    )\n",
       "    (pooler): BertPooler(\n",
       "      (dense): Linear(in_features=768, out_features=768, bias=True)\n",
       "      (activation): Tanh()\n",
       "    )\n",
       "  )\n",
       "  (dropout): Dropout(p=0.1, inplace=False)\n",
       "  (classifier): Linear(in_features=768, out_features=2, bias=True)\n",
       ")"
      ]
     },
     "execution_count": 10,
     "metadata": {},
     "output_type": "execute_result"
    }
   ],
   "source": [
    "from transformers import AdamW\n",
    "from torch.nn import BCEWithLogitsLoss\n",
    "\n",
    "# Define optimizer and loss function\n",
    "optimizer = AdamW(model.parameters(), lr=5e-5)\n",
    "criterion = BCEWithLogitsLoss()\n",
    "\n",
    "# Move the model to GPU if available\n",
    "device = torch.device(\"cuda\") if torch.cuda.is_available() else torch.device(\"cpu\")\n",
    "model.to(device)\n"
   ]
  },
  {
   "cell_type": "code",
   "execution_count": 11,
   "metadata": {},
   "outputs": [],
   "source": [
    "from torch.utils.data import DataLoader\n",
    "\n",
    "# Create data loaders\n",
    "train_loader = DataLoader(train_dataset, batch_size=16, shuffle=True)\n",
    "test_loader = DataLoader(test_dataset, batch_size=16)\n"
   ]
  },
  {
   "cell_type": "code",
   "execution_count": 12,
   "metadata": {},
   "outputs": [
    {
     "name": "stdout",
     "output_type": "stream",
     "text": [
      "Epoch 1/5, Loss: 0.3837\n",
      "Epoch 2/5, Loss: 0.1590\n",
      "Epoch 3/5, Loss: 0.1148\n",
      "Epoch 4/5, Loss: 0.0921\n",
      "Epoch 5/5, Loss: 0.0855\n"
     ]
    }
   ],
   "source": [
    "num_epochs = 5  # You can adjust this based on your dataset size\n",
    "\n",
    "for epoch in range(num_epochs):\n",
    "    model.train()\n",
    "    total_loss = 0\n",
    "\n",
    "    for batch in train_loader:\n",
    "        # Move batch to device\n",
    "        inputs = {key: val.to(device) for key, val in batch.items() if key != 'labels'}\n",
    "        labels = batch['labels'].to(device)\n",
    "\n",
    "        # Forward pass\n",
    "        outputs = model(**inputs)\n",
    "        logits = outputs.logits\n",
    "        loss = criterion(logits, labels)  # Multi-label loss\n",
    "\n",
    "        # Backward pass\n",
    "        optimizer.zero_grad()\n",
    "        loss.backward()\n",
    "        optimizer.step()\n",
    "\n",
    "        total_loss += loss.item()\n",
    "\n",
    "    avg_loss = total_loss / len(train_loader)\n",
    "    print(f\"Epoch {epoch + 1}/{num_epochs}, Loss: {avg_loss:.4f}\")\n"
   ]
  },
  {
   "cell_type": "code",
   "execution_count": 14,
   "metadata": {},
   "outputs": [
    {
     "name": "stdout",
     "output_type": "stream",
     "text": [
      "Is Event Accuracy: 0.93, F1 Score: 0.95\n",
      "Food Mentioned Accuracy: 0.97, F1 Score: 0.92\n"
     ]
    }
   ],
   "source": [
    "from sklearn.metrics import accuracy_score, f1_score\n",
    "import numpy as np\n",
    "\n",
    "model.eval()\n",
    "predictions, true_labels = [], []\n",
    "\n",
    "with torch.no_grad():\n",
    "    for batch in test_loader:\n",
    "        inputs = {key: val.to(device) for key, val in batch.items() if key != 'labels'}\n",
    "        labels = batch['labels'].to(device)\n",
    "\n",
    "        # Get predictions\n",
    "        outputs = model(**inputs)\n",
    "        logits = outputs.logits\n",
    "        preds = torch.sigmoid(logits) > 0.5  # Threshold at 0.5\n",
    "\n",
    "        predictions.extend(preds.cpu().numpy())\n",
    "        true_labels.extend(labels.cpu().numpy())\n",
    "\n",
    "# Convert to NumPy arrays for evaluation\n",
    "predictions = np.array(predictions)\n",
    "true_labels = np.array(true_labels)\n",
    "\n",
    "# Calculate accuracy and F1 for each label\n",
    "is_event_accuracy = accuracy_score(true_labels[:, 0], predictions[:, 0])\n",
    "food_mentioned_accuracy = accuracy_score(true_labels[:, 1], predictions[:, 1])\n",
    "is_event_f1 = f1_score(true_labels[:, 0], predictions[:, 0])\n",
    "food_mentioned_f1 = f1_score(true_labels[:, 1], predictions[:, 1])\n",
    "\n",
    "print(f\"Is Event Accuracy: {is_event_accuracy:.2f}, F1 Score: {is_event_f1:.2f}\")\n",
    "print(f\"Food Mentioned Accuracy: {food_mentioned_accuracy:.2f}, F1 Score: {food_mentioned_f1:.2f}\")\n"
   ]
  },
  {
   "cell_type": "code",
   "execution_count": 15,
   "metadata": {},
   "outputs": [
    {
     "data": {
      "text/plain": [
       "('multi_label_event_model\\\\tokenizer_config.json',\n",
       " 'multi_label_event_model\\\\special_tokens_map.json',\n",
       " 'multi_label_event_model\\\\vocab.txt',\n",
       " 'multi_label_event_model\\\\added_tokens.json')"
      ]
     },
     "execution_count": 15,
     "metadata": {},
     "output_type": "execute_result"
    }
   ],
   "source": [
    "model.save_pretrained(\"multi_label_event_model\")\n",
    "tokenizer.save_pretrained(\"multi_label_event_model\")"
   ]
  },
  {
   "cell_type": "code",
   "execution_count": 17,
   "metadata": {},
   "outputs": [
    {
     "name": "stdout",
     "output_type": "stream",
     "text": [
      "Prediction: [[ True  True]]\n"
     ]
    }
   ],
   "source": [
    "from transformers import BertTokenizer, BertForSequenceClassification\n",
    "\n",
    "# Load the model and tokenizer\n",
    "tokenizer = BertTokenizer.from_pretrained(\"multi_label_event_model\")\n",
    "model = BertForSequenceClassification.from_pretrained(\"multi_label_event_model\")\n",
    "model.to(device)\n",
    "\n",
    "# New email content\n",
    "new_email = \"\"\"\n",
    "Come and join us as we step into the new year with exciting activities! (  ≧ᗜ≦) ⋆⭒˚.⋆\n",
    "\n",
    "Explore Middle Eastern culture through fun games and savor rich, flavorful, and exquisite food prepared just for YOU! (˶˃ ᵕ ˂˶)❤️\n",
    "\n",
    "\n",
    "Save the date!🗓️🙀\n",
    "\n",
    "\n",
    "📅Date : 24 January 2025\n",
    "\n",
    "📍Venue : SMUC ALC 3.1-3.2\n",
    "\n",
    "⏰Time: 4:00PM - 7:00PM\n",
    "\n",
    "\n",
    "\n",
    "Food and refreshments will be provided!🍽️\n",
    "\n",
    "\n",
    "Sign up HERE by clicking on the RSVP button below SMU Al Khaleej : Step Into the Middle East! Forms are open until 17 January 2025. Hurry as slots are limited! 😱\n",
    "\n",
    " \n",
    "\n",
    "If you have any questions or concerns, do reach out to @hahahhaha via Telegram.\n",
    "\n",
    " \n",
    "\n",
    "Follow us on Instagram and join our Telegram Group for our latest updates!\n",
    "\n",
    " \n",
    "\n",
    "Should you wish to unsubscribe:\n",
    "\n",
    "Internal recipients of SMU, please visit <link> to filter away this EDM.  \n",
    "\"\"\"\n",
    "\n",
    "new_email = clean_text(new_email)\n",
    "\n",
    "# Tokenize and predict\n",
    "inputs = tokenizer(new_email, return_tensors=\"pt\", truncation=True, padding=True, max_length=512)\n",
    "inputs = {key: val.to(device) for key, val in inputs.items()}\n",
    "\n",
    "model.eval()\n",
    "with torch.no_grad():\n",
    "    outputs = model(**inputs)\n",
    "    logits = outputs.logits\n",
    "    probs = torch.sigmoid(logits)  # Probabilities for each label\n",
    "    prediction = probs > 0.5  # Threshold predictions at 0.5\n",
    "\n",
    "print(f\"Prediction: {prediction.cpu().numpy()}\")\n"
   ]
  }
 ],
 "metadata": {
  "kernelspec": {
   "display_name": "venv",
   "language": "python",
   "name": "python3"
  },
  "language_info": {
   "codemirror_mode": {
    "name": "ipython",
    "version": 3
   },
   "file_extension": ".py",
   "mimetype": "text/x-python",
   "name": "python",
   "nbconvert_exporter": "python",
   "pygments_lexer": "ipython3",
   "version": "3.12.6"
  }
 },
 "nbformat": 4,
 "nbformat_minor": 2
}
